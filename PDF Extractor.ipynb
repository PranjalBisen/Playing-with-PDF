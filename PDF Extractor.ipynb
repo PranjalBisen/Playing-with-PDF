{
  "nbformat": 4,
  "nbformat_minor": 0,
  "metadata": {
    "colab": {
      "provenance": []
    },
    "kernelspec": {
      "name": "python3",
      "display_name": "Python 3"
    },
    "language_info": {
      "name": "python"
    }
  },
  "cells": [
    {
      "cell_type": "code",
      "source": [
        "#Importing Libraries\n",
        "import tabula\n",
        "import pandas as pd\n",
        "import csv\n",
        "import PyPDF2\n",
        "\n",
        "# Read the PDF file\n",
        "tables = tabula.read_pdf('Disease.pdf', pages='all', lattice=True)\n",
        "\n",
        "# Create a list to store the extracted data\n",
        "data = []\n",
        "\n",
        "# Iterate through each table\n",
        "for table in tables:\n",
        "    # Convert the table to a pandas DataFrame\n",
        "    df = pd.DataFrame(table)\n",
        "\n",
        "    # Iterate through each row in the DataFrame\n",
        "    for index, row in df.iterrows():\n",
        "        # Extract the row data as a list, replacing NaN with an empty string\n",
        "        row_data = [str(cell) if not pd.isna(cell) else '' for cell in row]\n",
        "\n",
        "        # Add the row data to the main list\n",
        "        data.append(row_data)\n",
        "\n",
        "# Write the extracted data to a CSV file\n",
        "with open('6.csv', 'w', newline='') as csvfile:\n",
        "    writer = csv.writer(csvfile)\n",
        "    writer.writerows(data)\n",
        "\n",
        "# Extract text from pages without tables\n",
        "pages_without_tables = []\n",
        "for page in range(1, len(tables) + 1):\n",
        "    try:\n",
        "        tables = tabula.read_pdf('Disease.pdf', pages=page, lattice=True)\n",
        "        if not tables:\n",
        "            pages_without_tables.append(page)\n",
        "    except:\n",
        "        pages_without_tables.append(page)\n",
        "\n",
        "# Extract text from pages without tables\n",
        "pdf_file = open('Disease.pdf', 'rb')\n",
        "pdf_reader = PyPDF2.PdfReader(pdf_file)\n",
        "\n",
        "for page in pages_without_tables:\n",
        "    if page <= len(pdf_reader.pages):\n",
        "        page_obj = pdf_reader.pages[page - 1]\n",
        "        text = page_obj.extract_text()\n",
        "        with open(f'page_{page}.txt', 'w') as f:\n",
        "            f.write(text)\n",
        "\n",
        "pdf_file.close()"
      ],
      "metadata": {
        "id": "XP9XnSZYzgp3"
      },
      "execution_count": 38,
      "outputs": []
    },
    {
      "cell_type": "code",
      "source": [],
      "metadata": {
        "id": "nANwXv348XCI"
      },
      "execution_count": null,
      "outputs": []
    }
  ]
}